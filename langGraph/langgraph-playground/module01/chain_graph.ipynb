{
 "cells": [
  {
   "cell_type": "code",
   "execution_count": 3,
   "metadata": {},
   "outputs": [
    {
     "name": "stdout",
     "output_type": "stream",
     "text": [
      "==================================\u001b[1m Ai Message \u001b[0m==================================\n",
      "Name: Model\n",
      "\n",
      "So You Said you were Research on Wild Animals\n",
      "================================\u001b[1m Human Message \u001b[0m=================================\n",
      "Name: Hijab\n",
      "\n",
      "Yeah that's right\n",
      "==================================\u001b[1m Ai Message \u001b[0m==================================\n",
      "Name: Model\n",
      "\n",
      "Great, Would you like to learn more about Wild Animals\n",
      "================================\u001b[1m Human Message \u001b[0m=================================\n",
      "Name: Hijab\n",
      "\n",
      "I want to learn about the best places to see leopard in the World\n"
     ]
    }
   ],
   "source": [
    "from langgraph.graph import StateGraph, START, END\n",
    "from pprint import pprint\n",
    "from langchain_core.messages import HumanMessage, AIMessage, SystemMessage, AnyMessage\n",
    "\n",
    "messages = [AIMessage(content=f\"So You Said you were Research on Wild Animals\", name=\"Model\")]\n",
    "messages.extend([HumanMessage(content=f\"Yeah that's right\", name=\"Hijab\")])\n",
    "messages.extend([AIMessage(content=f\"Great, Would you like to learn more about Wild Animals\", name=\"Model\")])\n",
    "messages.extend([HumanMessage(content=f\"I want to learn about the best places to see leopard in the World\", name=\"Hijab\")])\n",
    "\n",
    "for m in messages:\n",
    "    m.pretty_print()"
   ]
  },
  {
   "cell_type": "code",
   "execution_count": 7,
   "metadata": {},
   "outputs": [
    {
     "data": {
      "text/plain": [
       "True"
      ]
     },
     "execution_count": 7,
     "metadata": {},
     "output_type": "execute_result"
    }
   ],
   "source": [
    "from dotenv import load_dotenv\n",
    "from langchain_openai import ChatOpenAI\n",
    "\n",
    "load_dotenv()"
   ]
  },
  {
   "cell_type": "code",
   "execution_count": 10,
   "metadata": {},
   "outputs": [
    {
     "name": "stdout",
     "output_type": "stream",
     "text": [
      "('Leopards are fascinating big cats known for their elusive nature and '\n",
      " 'beautiful spotted coats. Here are some of the best places in the world to '\n",
      " 'see leopards in their natural habitat:\\n'\n",
      " '\\n'\n",
      " '1. **Kruger National Park, South Africa**: One of the most famous wildlife '\n",
      " 'reserves in the world, Kruger is home to a healthy population of leopards. '\n",
      " \"The park's diverse ecosystems provide excellent opportunities for leopard \"\n",
      " 'sightings.\\n'\n",
      " '\\n'\n",
      " '2. **Yala National Park, Sri Lanka**: Yala is renowned for its high density '\n",
      " \"of leopards. The park's combination of scrubland, forest, and coastal areas \"\n",
      " 'makes it an ideal habitat for these big cats.\\n'\n",
      " '\\n'\n",
      " '3. **Masai Mara National Reserve, Kenya**: Known for the Great Migration, '\n",
      " 'the Masai Mara is also a great place to spot leopards. They are often seen '\n",
      " 'resting in trees or stalking prey in the grasslands.\\n'\n",
      " '\\n'\n",
      " '4. **Bandhavgarh National Park, India**: While Bandhavgarh is famous for its '\n",
      " \"tiger population, it also has a significant number of leopards. The park's \"\n",
      " 'varied terrain provides good opportunities for sightings.\\n'\n",
      " '\\n'\n",
      " '5. **Sabi Sands Game Reserve, South Africa**: This private reserve adjacent '\n",
      " 'to Kruger National Park is known for its luxury lodges and excellent leopard '\n",
      " 'viewing. The leopards here are accustomed to vehicles, making sightings more '\n",
      " 'frequent.\\n'\n",
      " '\\n'\n",
      " '6. **Kanha National Park, India**: Another excellent location in India, '\n",
      " \"Kanha is known for its diverse wildlife, including leopards. The park's \"\n",
      " 'dense forests and open grasslands provide a good chance of spotting them.\\n'\n",
      " '\\n'\n",
      " '7. **Chobe National Park, Botswana**: While Chobe is famous for its '\n",
      " 'elephants, leopards can also be spotted here, especially near the riverbanks '\n",
      " 'where they hunt for prey.\\n'\n",
      " '\\n'\n",
      " '8. **Selous Game Reserve, Tanzania**: This lesser-known reserve offers a '\n",
      " 'more remote experience and is home to a variety of wildlife, including '\n",
      " 'leopards.\\n'\n",
      " '\\n'\n",
      " '9. **Kgalagadi Transfrontier Park, South Africa/Botswana**: This arid park '\n",
      " 'is known for its stunning landscapes and wildlife, including leopards, which '\n",
      " 'can often be seen near waterholes.\\n'\n",
      " '\\n'\n",
      " '10. **Namib-Naukluft National Park, Namibia**: While leopards are less '\n",
      " 'common here, they can still be spotted in the mountainous areas of the '\n",
      " 'park.\\n'\n",
      " '\\n'\n",
      " 'When planning a trip to see leopards, consider the best times for wildlife '\n",
      " 'viewing, typically during the dry season when animals are more likely to '\n",
      " 'gather around water sources. Always remember to respect wildlife and '\n",
      " 'maintain a safe distance while observing these magnificent creatures.')\n"
     ]
    }
   ],
   "source": [
    "llm = ChatOpenAI(model=\"gpt-4o-mini\", temperature=0.2)\n",
    "response = llm.invoke(messages)\n",
    "\n",
    "pprint(response.content)"
   ]
  },
  {
   "cell_type": "code",
   "execution_count": null,
   "metadata": {},
   "outputs": [],
   "source": [
    "def Multiply(a:int, b:int):\n",
    "    \"\"\"Multiply A & B\n",
    "\n",
    "    Args:\n",
    "        a (int): _description_\n",
    "        b (int): _description_\n",
    "    \"\"\""
   ]
  }
 ],
 "metadata": {
  "kernelspec": {
   "display_name": "open-service-uQHKusx_-py3.12",
   "language": "python",
   "name": "python3"
  },
  "language_info": {
   "codemirror_mode": {
    "name": "ipython",
    "version": 3
   },
   "file_extension": ".py",
   "mimetype": "text/x-python",
   "name": "python",
   "nbconvert_exporter": "python",
   "pygments_lexer": "ipython3",
   "version": "3.12.4"
  }
 },
 "nbformat": 4,
 "nbformat_minor": 2
}
