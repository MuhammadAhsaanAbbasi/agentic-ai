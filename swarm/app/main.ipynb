{
 "cells": [
  {
   "cell_type": "code",
   "execution_count": 3,
   "metadata": {},
   "outputs": [
    {
     "data": {
      "text/plain": [
       "True"
      ]
     },
     "execution_count": 3,
     "metadata": {},
     "output_type": "execute_result"
    }
   ],
   "source": [
    "from swarm import Swarm, Agent\n",
    "from dotenv import load_dotenv\n",
    "\n",
    "load_dotenv()"
   ]
  },
  {
   "cell_type": "code",
   "execution_count": 6,
   "metadata": {},
   "outputs": [],
   "source": [
    "client = Swarm()\n",
    "\n",
    "agent = Agent(\n",
    "    name=\"Helpful Assistant\",\n",
    "    instructions=\"You are a helpful assistant. You answer questions to the best of your ability.\",\n",
    ")\n",
    "\n",
    "messages = [\n",
    "    {\"role\" : \"user\", \"content\" : \"What is the meaning of life?\"}\n",
    "]"
   ]
  },
  {
   "cell_type": "code",
   "execution_count": 12,
   "metadata": {},
   "outputs": [
    {
     "name": "stdout",
     "output_type": "stream",
     "text": [
      "The meaning of life is a deeply philosophical and often personal question that has been contemplated by thinkers, religions, and cultures throughout history. Different perspectives offer various answers:\n",
      "\n",
      "1. **Religious Interpretations**: Many religions provide specific interpretations of the meaning of life. For example, Christianity teaches that the purpose of life is to know, love, and serve God. Buddhism might suggest that life is about overcoming suffering and achieving enlightenment through the Four Noble Truths and the Eightfold Path.\n",
      "\n",
      "2. **Philosophical Perspectives**: Existentialists like Jean-Paul Sartre suggest that life has no inherent meaning, and it's up to each individual to create their own purpose. In contrast, Aristotle believed in a life of virtue and reason as the path to happiness and fulfillment.\n",
      "\n",
      "3. **Scientific and Secular Views**: From a scientific standpoint, the meaning of life might be seen from a biological perspective, where the purpose is to survive, reproduce, or pass on genetic material. Some secular humanists argue that meaning is derived from human experience and relationships, suggesting a focus on creating meaning through action and community.\n",
      "\n",
      "4. **Personal Interpretations**: Many people find meaning through personal passions, relationships, career accomplishments, or contributions to society. It is often seen as a personal journey where each individual defines their own purpose.\n",
      "\n",
      "Ultimately, the meaning of life is a subjective question and can differ greatly from person to person based on their beliefs, experiences, and worldview.\n"
     ]
    }
   ],
   "source": [
    "response = client.run(agent=agent, messages=messages)\n",
    "print(response.messages[0][\"content\"])"
   ]
  },
  {
   "cell_type": "code",
   "execution_count": 24,
   "metadata": {},
   "outputs": [
    {
     "name": "stdout",
     "output_type": "stream",
     "text": [
      "Hello! I'm here to help you. How can I assist you today?\n"
     ]
    }
   ],
   "source": [
    "from swarm import Swarm,Agent\n",
    "client=Swarm()\n",
    "\n",
    "english_agent=Agent(\n",
    "    name=\"English Agent\",\n",
    "    instructions=\"You only speak English\"\n",
    ")\n",
    "\n",
    "french_agent=Agent(\n",
    "    name=\"French Agent\",\n",
    "    instructions=\"You only speak French\"\n",
    ")\n",
    "\n",
    "def transfer_to_french_agent():\n",
    "    return french_agent\n",
    "\n",
    "\n",
    "english_agent.functions.append(transfer_to_french_agent)\n",
    "\n",
    "messages=[{\"role\":\"user\",\"content\":\"Hi How are you?\"}]\n",
    "response=client.run(agent=english_agent,messages=messages)\n",
    "print(response.messages[-1][\"content\"])\n"
   ]
  },
  {
   "cell_type": "code",
   "execution_count": 25,
   "metadata": {},
   "outputs": [
    {
     "name": "stdout",
     "output_type": "stream",
     "text": [
      "Hello! I'm here to help you. How can I assist you today?\n"
     ]
    }
   ],
   "source": [
    "response = client.run(\n",
    "    agent=english_agent,\n",
    "    messages=[\n",
    "        {\n",
    "            \"role\": \"user\",\n",
    "            \"content\": \"Hi, How are you?\",\n",
    "        }\n",
    "    ],\n",
    ")\n",
    "print(response.messages[0][\"content\"])"
   ]
  },
  {
   "cell_type": "code",
   "execution_count": 31,
   "metadata": {},
   "outputs": [
    {
     "name": "stdout",
     "output_type": "stream",
     "text": [
      "Je vais bien, merci ! Comment puis-je vous aider aujourd'hui ?\n"
     ]
    }
   ],
   "source": [
    "messages=[{\"role\":\"user\",\"content\":\"comment vas-tu ?\"}]\n",
    "response = client.run(\n",
    "    agent=english_agent,\n",
    "    messages=messages,\n",
    ")\n",
    "print(response.messages[-1][\"content\"])"
   ]
  },
  {
   "cell_type": "markdown",
   "metadata": {},
   "source": [
    "### Context Variable"
   ]
  },
  {
   "cell_type": "code",
   "execution_count": 81,
   "metadata": {},
   "outputs": [],
   "source": [
    "def instructions(context_variable):\n",
    "    name = context_variable.get(\"name\")\n",
    "    return f\"You're a helpful Agent, Greet the user by Name: {name}\"\n",
    "\n",
    "def print_account_details(context_variables: dict):\n",
    "    user_id = context_variables.get(\"user_id\", None)\n",
    "    name = context_variables.get(\"name\", None)\n",
    "\n",
    "    # print(f'Success')\n",
    "\n",
    "    return f'Account Details: UserId: {user_id}, Name: {name}'\n",
    "\n",
    "agent = Agent(\n",
    "    name=\"Agent\",\n",
    "    instructions=instructions,\n",
    "    functions=[print_account_details],\n",
    ")\n",
    "\n",
    "context_variable = {\n",
    "    \"user_id\": 1428,\n",
    "    \"name\": \"M. Ahsaan Abbasi\"\n",
    "}"
   ]
  },
  {
   "cell_type": "code",
   "execution_count": 82,
   "metadata": {},
   "outputs": [
    {
     "name": "stdout",
     "output_type": "stream",
     "text": [
      "Hello M. Ahsaan Abbasi! Here are your account details: \n",
      "\n",
      "- **UserId:** 1428 \n",
      "- **Name:** M. Ahsaan Abbasi\n",
      "\n",
      "How can I assist you further today?\n"
     ]
    }
   ],
   "source": [
    "messages=[{\"role\":\"user\",\"content\":\"HI, print my Details?\"}]\n",
    "response = client.run(\n",
    "    agent=agent,\n",
    "    messages=messages,\n",
    "    context_variables=context_variable,\n",
    ")\n",
    "print(response.messages[-1][\"content\"])"
   ]
  },
  {
   "cell_type": "code",
   "execution_count": 83,
   "metadata": {},
   "outputs": [
    {
     "name": "stdout",
     "output_type": "stream",
     "text": [
      "Here are your details:\n",
      "\n",
      "- **Account Details**: \n",
      "  - User ID: 1428\n",
      "  - Name: M. Ahsaan Abbasi\n",
      "\n",
      "- **Salary**: $5000\n",
      "\n",
      "Is there anything else you would like to know?\n"
     ]
    }
   ],
   "source": [
    "def print_price_details(context_variables: dict):\n",
    "    salary = context_variables.get(\"salary\", 0)\n",
    "\n",
    "    return f\"Salary: {salary}\"\n",
    "\n",
    "context_variable[\"salary\"] = 5000\n",
    "\n",
    "agent.functions.append(print_price_details)\n",
    "\n",
    "messages=[{\"role\":\"user\",\"content\":\"HI, Show me my Salary?\"}]\n",
    "response = client.run(\n",
    "    agent=agent,\n",
    "    messages=messages,\n",
    "    context_variables=context_variable,\n",
    ")\n",
    "print(response.messages[-1][\"content\"])"
   ]
  },
  {
   "cell_type": "markdown",
   "metadata": {},
   "source": [
    "## Function Calling"
   ]
  },
  {
   "cell_type": "code",
   "execution_count": 84,
   "metadata": {},
   "outputs": [],
   "source": [
    "from typing import Dict, Union\n",
    "import datetime\n",
    "import requests as rq\n",
    "\n",
    "def get_weather(latitude: float, longitude: float):\n",
    "    \"\"\"Get weather data for a given latitude and longitude.\"\"\"\n",
    "    BASE_URL = f\"https://api.open-meteo.com/v1/forecast\"\n",
    "    params: Dict[str, Union[str, int, float]] = {\n",
    "        \"latitude\" : latitude,\n",
    "        \"longitude\" : longitude,\n",
    "        \"hourly\" : \"temperature_2m\",\n",
    "        \"forecast_days\" : 1\n",
    "    }\n",
    "\n",
    "    response = rq.get(BASE_URL, params=params)\n",
    "\n",
    "    if response.status_code == 200:\n",
    "        data = response.json()\n",
    "    else:\n",
    "        raise Exception(f\"API Request Failed: {response.status_code}, {response.text}\")\n",
    "\n",
    "    current_time = datetime.datetime.utcnow()\n",
    "    time_list = [datetime.datetime.fromisoformat(t.replace(\"Z\", \"+00:00\")) for t in data[\"hourly\"][\"time\"]]\n",
    "    temperature_lists = data[\"hourly\"][\"temperature_2m\"]\n",
    "\n",
    "    closet_time_index = min(range(len(time_list)), key=lambda i: abs(time_list[i] - current_time))\n",
    "\n",
    "    temperature = temperature_lists[closet_time_index]\n",
    "\n",
    "    return f\"The Current temperature at {latitude}, {longitude} is {temperature}°C\""
   ]
  },
  {
   "cell_type": "code",
   "execution_count": 85,
   "metadata": {},
   "outputs": [
    {
     "name": "stderr",
     "output_type": "stream",
     "text": [
      "C:\\Users\\Dell\\AppData\\Local\\Temp\\ipykernel_16000\\4016473245.py:22: DeprecationWarning: datetime.datetime.utcnow() is deprecated and scheduled for removal in a future version. Use timezone-aware objects to represent datetimes in UTC: datetime.datetime.now(datetime.UTC).\n",
      "  current_time = datetime.datetime.utcnow()\n"
     ]
    },
    {
     "name": "stdout",
     "output_type": "stream",
     "text": [
      "The current temperature in Karachi (KHI) is 28.1°C. If you need more details or information, feel free to ask!\n"
     ]
    }
   ],
   "source": [
    "agent = Agent(\n",
    "    name=\"Weather Agent\",\n",
    "    instructions=\"You're helpful Agent to get Weather of Any City through latitude & longitude?\",\n",
    "    functions=[get_weather]\n",
    ")\n",
    "\n",
    "messages = [{\"role\" : \"user\", \"content\" : \"What's the Weather in KHI?\"}]\n",
    "\n",
    "response = client.run(agent=agent, messages=messages)\n",
    "print(response.messages[-1][\"content\"])"
   ]
  },
  {
   "cell_type": "code",
   "execution_count": null,
   "metadata": {},
   "outputs": [],
   "source": []
  }
 ],
 "metadata": {
  "kernelspec": {
   "display_name": "open-service-uQHKusx_-py3.12",
   "language": "python",
   "name": "python3"
  },
  "language_info": {
   "codemirror_mode": {
    "name": "ipython",
    "version": 3
   },
   "file_extension": ".py",
   "mimetype": "text/x-python",
   "name": "python",
   "nbconvert_exporter": "python",
   "pygments_lexer": "ipython3",
   "version": "3.12.4"
  }
 },
 "nbformat": 4,
 "nbformat_minor": 2
}
